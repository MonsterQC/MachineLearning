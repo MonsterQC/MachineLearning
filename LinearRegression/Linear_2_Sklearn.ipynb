{
 "cells": [
  {
   "cell_type": "code",
   "execution_count": 1,
   "metadata": {},
   "outputs": [],
   "source": [
    "import numpy as np\n",
    "import matplotlib.pyplot as plt\n",
    "from sklearn import linear_model"
   ]
  },
  {
   "cell_type": "code",
   "execution_count": 3,
   "metadata": {},
   "outputs": [],
   "source": [
    "plt.style.available\n",
    "plt.style.use(\"grayscale\")"
   ]
  },
  {
   "cell_type": "markdown",
   "metadata": {},
   "source": [
    "### Sử dụng thư viện Sklearn "
   ]
  },
  {
   "cell_type": "code",
   "execution_count": 14,
   "metadata": {},
   "outputs": [
    {
     "name": "stdout",
     "output_type": "stream",
     "text": [
      "[[-0.25718303  7.60002888]]\n",
      "[-20.44709486]\n"
     ]
    },
    {
     "data": {
      "image/png": "[encoded data removed]",
      "text/plain": [
       "<Figure size 432x288 with 1 Axes>"
      ]
     },
     "metadata": {},
     "output_type": "display_data"
    }
   ],
   "source": [
    "X_train = np.array([[2,3,4,5,6,7,8,9,10,11,12,13,14,15,16,17,18,19,20,21,22,23,24,25]]).T\n",
    "y_train = np.array([[2,5,7,9,11,16,19,23,22,29,29,35,37,40,46,42,39,31,30,28,20,15,10,6]]).T\n",
    "\n",
    "plt.plot(X_train, y_train, \"ro\", label=\"Data\")\n",
    "plt.axis(\"tight\")\n",
    "\n",
    "X_train_square = np.array(X_train[:]**2)\n",
    "X_train = np.concatenate((X_train_square, X_train), axis=1)\n",
    "\n",
    "lr = linear_model.LinearRegression()\n",
    "lr.fit(X_train, y_train)\n",
    "\n",
    "coef = lr.coef_\n",
    "intercept = lr.intercept_\n",
    "\n",
    "print(coef)\n",
    "print(intercept)\n",
    "\n",
    "X_model = np.linspace(1, 25, 10000)\n",
    "y_model = coef[0][0]*(X_model**2) + coef[0][1]*X_model + intercept\n",
    "\n",
    "plt.plot(X_model, y_model, label=\"Fitting line\")\n",
    "\n",
    "plt.legend();"
   ]
  },
  {
   "cell_type": "code",
   "execution_count": 16,
   "metadata": {},
   "outputs": [
    {
     "name": "stdout",
     "output_type": "stream",
     "text": [
      "[[ 3.56871557e+01]\n",
      " [ 8.81423077e+00]\n",
      " [-6.39134486e+02]\n",
      " [-1.83227455e+03]\n",
      " [-8.69274669e+03]\n",
      " [-8.78776269e+03]\n",
      " [-1.96071760e+05]]\n"
     ]
    }
   ],
   "source": [
    "X_test = np.array([[15,25,66,100,199,200,888]]).T\n",
    "y_test = coef[0][0]*(X_test**2) + coef[0][1]*X_test + intercept\n",
    "\n",
    "print(y_test)"
   ]
  }
 ],
 "metadata": {
  "kernelspec": {
   "display_name": "Python 3",
   "language": "python",
   "name": "python3"
  },
  "language_info": {
   "codemirror_mode": {
    "name": "ipython",
    "version": 3
   },
   "file_extension": ".py",
   "mimetype": "text/x-python",
   "name": "python",
   "nbconvert_exporter": "python",
   "pygments_lexer": "ipython3",
   "version": "3.8.5"
  }
 },
 "nbformat": 4,
 "nbformat_minor": 4
}
